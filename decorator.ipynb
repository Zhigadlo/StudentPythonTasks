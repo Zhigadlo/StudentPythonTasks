{
 "cells": [
  {
   "cell_type": "code",
   "execution_count": 94,
   "metadata": {},
   "outputs": [],
   "source": [
    "def cache_decorator(func):\n",
    "    cache = []\n",
    "    def wrapper(*args, **kwargs):\n",
    "        global calls\n",
    "        for previous_args, previous_kwargs, result in cache:\n",
    "            if previous_args == args and previous_kwargs == kwargs:\n",
    "                return result\n",
    "        if len(cache) == 3:\n",
    "            cache.clear()\n",
    "        calls += 1\n",
    "        result = func(*args, **kwargs)\n",
    "        cache.append((args, kwargs, result))\n",
    "        return result\n",
    "    return wrapper"
   ]
  },
  {
   "cell_type": "code",
   "execution_count": 95,
   "metadata": {},
   "outputs": [],
   "source": [
    "calls = 0\n",
    "@cache_decorator\n",
    "def my_function(x, y):\n",
    "    return x + y"
   ]
  },
  {
   "cell_type": "code",
   "execution_count": 96,
   "metadata": {},
   "outputs": [
    {
     "name": "stdout",
     "output_type": "stream",
     "text": [
      "func_result = {0}; calls = {1} 999 1\n",
      "func_result = {0}; calls = {1} 999 1\n",
      "func_result = {0}; calls = {1} 878 2\n",
      "func_result = {0}; calls = {1} 2218 3\n",
      "func_result = {0}; calls = {1} 1454 4\n",
      "func_result = {0}; calls = {1} 2218 5\n",
      "func_result = {0}; calls = {1} 1454 5\n"
     ]
    }
   ],
   "source": [
    "print(\"func_result = {0}; calls = {1}\", my_function(123,876), calls)\n",
    "print(\"func_result = {0}; calls = {1}\", my_function(123,876), calls)\n",
    "print(\"func_result = {0}; calls = {1}\", my_function(767,111), calls)\n",
    "print(\"func_result = {0}; calls = {1}\", my_function(1544,674), calls)\n",
    "print(\"func_result = {0}; calls = {1}\", my_function(555,899), calls)\n",
    "print(\"func_result = {0}; calls = {1}\", my_function(1544,674), calls)\n",
    "print(\"func_result = {0}; calls = {1}\", my_function(555,899), calls)"
   ]
  }
 ],
 "metadata": {
  "kernelspec": {
   "display_name": "Python 3",
   "language": "python",
   "name": "python3"
  },
  "language_info": {
   "codemirror_mode": {
    "name": "ipython",
    "version": 3
   },
   "file_extension": ".py",
   "mimetype": "text/x-python",
   "name": "python",
   "nbconvert_exporter": "python",
   "pygments_lexer": "ipython3",
   "version": "3.12.1"
  }
 },
 "nbformat": 4,
 "nbformat_minor": 2
}
